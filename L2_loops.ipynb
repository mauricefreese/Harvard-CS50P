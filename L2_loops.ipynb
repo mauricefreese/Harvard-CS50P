{
 "cells": [
  {
   "cell_type": "markdown",
   "id": "1fef8029-884e-45a2-8e62-f5427e692db6",
   "metadata": {},
   "source": [
    "'While' Loops"
   ]
  },
  {
   "cell_type": "code",
   "execution_count": 1,
   "id": "974175de-6f1c-4a7d-b05d-b7d98db7303e",
   "metadata": {},
   "outputs": [
    {
     "name": "stdout",
     "output_type": "stream",
     "text": [
      "meow\n",
      "meow\n",
      "meow\n",
      "meow\n",
      "meow\n"
     ]
    }
   ],
   "source": [
    "i = 5\n",
    "while i !=0:\n",
    "    print('meow')\n",
    "    i=i-1 # have to add this line or else you'll be in a infinite loop"
   ]
  },
  {
   "cell_type": "code",
   "execution_count": 4,
   "id": "722dde15-24c0-494b-b05f-4361b8d54a89",
   "metadata": {},
   "outputs": [
    {
     "name": "stdout",
     "output_type": "stream",
     "text": [
      "meow\n",
      "meow\n",
      "meow\n"
     ]
    }
   ],
   "source": [
    "i = 0\n",
    "while i < 3:\n",
    "    print('meow')\n",
    "    i += 1"
   ]
  },
  {
   "cell_type": "code",
   "execution_count": 10,
   "id": "60f59a32-8533-4a94-b470-14ba6a045a29",
   "metadata": {},
   "outputs": [],
   "source": [
    "i = 4\n",
    "while i <= 3:\n",
    "    print('meow')\n",
    "    i += 1"
   ]
  },
  {
   "cell_type": "markdown",
   "id": "464ba3ba-d027-4e21-9080-344946952fc6",
   "metadata": {},
   "source": [
    "'For' Loops and List (dtype)"
   ]
  },
  {
   "cell_type": "code",
   "execution_count": 11,
   "id": "5eb047aa-1125-4508-9ad1-3fd7b4e3e19e",
   "metadata": {},
   "outputs": [
    {
     "name": "stdout",
     "output_type": "stream",
     "text": [
      "meow\n",
      "meow\n",
      "meow\n"
     ]
    }
   ],
   "source": [
    "for i in [0,1,2]:\n",
    "    print('meow')"
   ]
  },
  {
   "cell_type": "code",
   "execution_count": 13,
   "id": "82eaa048-a373-4bc1-bf2d-71a8dec6469a",
   "metadata": {},
   "outputs": [
    {
     "name": "stdout",
     "output_type": "stream",
     "text": [
      "meow\n",
      "meow\n",
      "meow\n"
     ]
    }
   ],
   "source": [
    "for i in range(3): # as give back 0,1,2\n",
    "    print('meow')"
   ]
  },
  {
   "cell_type": "code",
   "execution_count": 19,
   "id": "e6cf2b1f-fb0f-4053-8013-6d9ee25c2376",
   "metadata": {},
   "outputs": [
    {
     "name": "stdout",
     "output_type": "stream",
     "text": [
      "meow\n",
      "meow\n",
      "meow\n"
     ]
    }
   ],
   "source": [
    "print('meow\\n' * 3, end='')"
   ]
  },
  {
   "cell_type": "code",
   "execution_count": 24,
   "id": "30f7bb7e-988b-4721-a0ce-d18826aa4201",
   "metadata": {},
   "outputs": [
    {
     "name": "stdin",
     "output_type": "stream",
     "text": [
      "What's n?  5\n"
     ]
    },
    {
     "name": "stdout",
     "output_type": "stream",
     "text": [
      "meow\n",
      "meow\n",
      "meow\n",
      "meow\n",
      "meow\n"
     ]
    }
   ],
   "source": [
    "while True:\n",
    "    n = int(input(\"What's n? \"))\n",
    "    if n > 0:\n",
    "        break\n",
    "        \n",
    "for _ in range(n):\n",
    "    print('meow')"
   ]
  },
  {
   "cell_type": "code",
   "execution_count": 4,
   "id": "3d505148-3120-45a7-870e-1bac8c8b928e",
   "metadata": {},
   "outputs": [
    {
     "name": "stdin",
     "output_type": "stream",
     "text": [
      "What's n?  4\n"
     ]
    },
    {
     "name": "stdout",
     "output_type": "stream",
     "text": [
      "meow\n",
      "meow\n",
      "meow\n",
      "meow\n"
     ]
    }
   ],
   "source": [
    "def main():\n",
    "    number = get_number()\n",
    "    meow(number)\n",
    "\n",
    "\n",
    "def get_number():\n",
    "    while True:\n",
    "        n = int(input(\"What's n? \"))\n",
    "        if n > 0:\n",
    "            break\n",
    "    return n\n",
    "    \n",
    "    \n",
    "def meow(n):\n",
    "    for _ in range(n):\n",
    "        print('meow')\n",
    "\n",
    "        \n",
    "main()"
   ]
  },
  {
   "cell_type": "markdown",
   "id": "6d31a383-c625-4cfa-a56d-cfa7d6942ef7",
   "metadata": {},
   "source": [
    "34:58"
   ]
  },
  {
   "cell_type": "code",
   "execution_count": null,
   "id": "c35ca850-3832-446d-a730-5b9cc0617a7e",
   "metadata": {},
   "outputs": [],
   "source": []
  }
 ],
 "metadata": {
  "kernelspec": {
   "display_name": "Python 3 (ipykernel)",
   "language": "python",
   "name": "python3"
  },
  "language_info": {
   "codemirror_mode": {
    "name": "ipython",
    "version": 3
   },
   "file_extension": ".py",
   "mimetype": "text/x-python",
   "name": "python",
   "nbconvert_exporter": "python",
   "pygments_lexer": "ipython3",
   "version": "3.9.12"
  },
  "widgets": {
   "application/vnd.jupyter.widget-state+json": {
    "state": {},
    "version_major": 2,
    "version_minor": 0
   }
  }
 },
 "nbformat": 4,
 "nbformat_minor": 5
}
