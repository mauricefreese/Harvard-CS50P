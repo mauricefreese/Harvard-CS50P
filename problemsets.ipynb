{
 "cells": [
  {
   "cell_type": "markdown",
   "id": "c267ebbd-1128-4024-b9a9-ecefc2d6f33d",
   "metadata": {},
   "source": [
    "Problem Set 0:"
   ]
  },
  {
   "cell_type": "code",
   "execution_count": 1,
   "id": "afbf1930-6979-40a1-bdd2-46b70f528b03",
   "metadata": {},
   "outputs": [
    {
     "name": "stdin",
     "output_type": "stream",
     "text": [
      " LKlIFHelka\n"
     ]
    },
    {
     "name": "stdout",
     "output_type": "stream",
     "text": [
      "lklifhelka\n"
     ]
    }
   ],
   "source": [
    "# indoor.py\n",
    "'''\n",
    "In a file called indoor.py, implement a program in Python that prompts\n",
    " the user for input and then outputs that same input in lowercase. Punctuation and\n",
    " whitespace should be outputted unchanged. You’re welcome, but not required, to\n",
    " prompt the user explicitly, as by passing a str of your own as an argument to input.\n",
    "'''\n",
    "inpt = input()\n",
    "inpt = inpt.lower()\n",
    "print(inpt)"
   ]
  },
  {
   "cell_type": "code",
   "execution_count": 2,
   "id": "760fd1e2-1678-4701-a87e-a28b14eafbfd",
   "metadata": {},
   "outputs": [
    {
     "name": "stdin",
     "output_type": "stream",
     "text": [
      " sgGsersg zGaegr \n"
     ]
    },
    {
     "name": "stdout",
     "output_type": "stream",
     "text": [
      "sgGsersg...zGaegr...\n"
     ]
    }
   ],
   "source": [
    "# playback.py\n",
    "'''\n",
    "In a file called playback.py, implement a program in Python that prompts the user for input and then outputs \n",
    "that same input, replacing each space with ... (i.e., three periods).\n",
    "'''\n",
    "inpt = input(\"\")\n",
    "inpt = inpt.replace(\" \", \"...\")\n",
    "print(inpt)"
   ]
  },
  {
   "cell_type": "code",
   "execution_count": 3,
   "id": "e45d6bd1-a82a-4eb5-b458-04209b55ef08",
   "metadata": {},
   "outputs": [
    {
     "name": "stdin",
     "output_type": "stream",
     "text": [
      " kljhl\n"
     ]
    },
    {
     "name": "stdout",
     "output_type": "stream",
     "text": [
      "kljhl\n"
     ]
    }
   ],
   "source": [
    "# faces.py\n",
    "'''\n",
    "In a file called faces.py, implement a function called convert that accepts a str as input and returns that same input \n",
    "with any :) converted to 🙂 (otherwise known as a slightly smiling face) and any :( converted to 🙁 (otherwise known as \n",
    "a slightly frowning face). All other text should be returned unchanged. Then, in that same file, implement a function \n",
    "called main that prompts the user for input, calls convert on that input, and prints the result. You’re welcome, but not \n",
    "required, to prompt the user explicitly, as by passing a str of your own as an argument to input. Be sure to call main at\n",
    "the bottom of your file.\n",
    "'''\n",
    "convert = input(\"\")\n",
    "convert = convert.replace(\":)\",\"🙂\").replace(\":(\",\"🙁\")\n",
    "print(convert)"
   ]
  },
  {
   "cell_type": "code",
   "execution_count": null,
   "id": "a66aae4b-e6f4-48bf-8478-3aa35df43d30",
   "metadata": {},
   "outputs": [],
   "source": [
    "# einstein.py\n",
    "'''\n",
    "Even if you havent studied physics (recently or ever!), you might have heard that E=mc^2,wherein represents energy \n",
    "(measured in Joules), represents mass (measured in kilograms),and represents the speed of light (measured approximately\n",
    "as 300000000 meters per second), per Albert Einstein et al. Essentially, the formula means that mass and energy are\n",
    "equivalent.In a file called einstein.py, implement a program in Python that prompts the user for mass as an integer (in\n",
    "kilograms) and then outputs the equivalent number of Joules as an integer. Assume that the user will input an integer.\n",
    "'''\n",
    "m = int(input(\"What's the mass in kilograms?\"))\n",
    "c=300000000\n",
    "E = m*c**2\n",
    "\n",
    "print(\"The amounts of joules is:\",E)"
   ]
  },
  {
   "cell_type": "code",
   "execution_count": null,
   "id": "5d194cb4-a26d-45ed-a149-1fe04a570158",
   "metadata": {},
   "outputs": [],
   "source": [
    "# tip.py\n",
    "'''\n",
    "- dollars_to_float, which should accept a str as input (formatted as $##.##, wherein\n",
    "each # is a decimal digit), remove the leading $, and return the amount as a float.\n",
    "For instance, given $50.00 as input, it should return 50.0.\n",
    "\n",
    "- percent_to_float, which should accept a str as input (formatted as ##%, wherein\n",
    "each # is a decimal digit), remove the trailing %, and return the percentage as a float.\n",
    "For instance, given 15% as input, it should return 0.15.\n",
    "'''\n",
    "\n",
    "def main():\n",
    "    dollars = dollars_to_float(input(\"How much was the meal? \"))\n",
    "    percent = percent_to_float(input(\"What percentage would you like to tip? \"))\n",
    "    tip = dollars * (percent*.01)\n",
    "    print(f\"Leave ${tip:.2f}\")\n",
    "\n",
    "\n",
    "def dollars_to_float(d):\n",
    "    return float(d.replace(\"$\",\"\"))\n",
    "\n",
    "def percent_to_float(p):\n",
    "    return float(p.replace(\"%\",\"\"))\n",
    "\n",
    "main()"
   ]
  },
  {
   "cell_type": "markdown",
   "id": "1e0f9f4e-f0b6-4e16-8da9-64a8153e9ca5",
   "metadata": {},
   "source": [
    "---------------------------------------------------------------------------------------------------------------------------------"
   ]
  },
  {
   "cell_type": "markdown",
   "id": "e4ef2f8d-222f-4708-86d0-bc3eded6fd52",
   "metadata": {},
   "source": [
    "Problem Set 1:"
   ]
  },
  {
   "cell_type": "code",
   "execution_count": 4,
   "id": "9db0bfb9-a525-497b-8fdf-57ac25d68f38",
   "metadata": {},
   "outputs": [
    {
     "name": "stdin",
     "output_type": "stream",
     "text": [
      "What is the Answer to the Great Question of Life, the Universe, and Everything?  lkhjl\n"
     ]
    },
    {
     "name": "stdout",
     "output_type": "stream",
     "text": [
      "No\n"
     ]
    }
   ],
   "source": [
    "# deep.py\n",
    "'''\n",
    "In deep.py, implement a program that prompts the user for the answer to the Great Question of Life, the Universe and\n",
    "Everything, outputting Yes if the user inputs 42 or (case-insensitively) forty-two or forty two. Otherwise output No.\n",
    "'''\n",
    "\n",
    "deep = input(\"What is the Answer to the Great Question of Life, the Universe, and Everything? \").strip().lower()\n",
    "\n",
    "if deep == \"42\" or deep == \"forty-two\" or deep == \"forty two\":\n",
    "    print(\"Yes\")\n",
    "else:\n",
    "    print(\"No\")"
   ]
  },
  {
   "cell_type": "code",
   "execution_count": null,
   "id": "c320fff4-9b40-4669-89c0-19fd8e2a902c",
   "metadata": {},
   "outputs": [],
   "source": [
    "# bank.py\n",
    "'''\n",
    "In a file called bank.py, implement a program that prompts the user for a greeting. If the greeting starts with “hello”,\n",
    "output $0. If the greeting starts with an “h” (but not “hello”), output $20. Otherwise, output $100. Ignore any leading\n",
    "whitespace in the user’s greeting, and treat the user’s greeting case-insensitively.\n",
    "'''\n",
    "\n",
    "#or bank == \"hello,\"\n",
    "bank = input(\"Greeting: \")\n",
    "response = bank.lower().split()\n",
    "\n",
    "if \"hello\" in response or \"hello,\" in response:\n",
    "    print(\"$0\")\n",
    "elif bank[0] == (\"H\"):\n",
    "    print (\"$20\")\n",
    "else:\n",
    "    print (\"$100\")"
   ]
  },
  {
   "cell_type": "code",
   "execution_count": null,
   "id": "c2a69c06-d3a0-470c-9cf9-b87ca15a0328",
   "metadata": {},
   "outputs": [],
   "source": [
    "# extensions.py\n",
    "'''\n",
    "In a file called extensions.py, implement a program that prompts the user for the name of a file and then outputs\n",
    "that file’s media type if the file’s name ends, case-insensitively, in any of these suffixes:\n",
    "'''\n",
    "\n",
    "response = str(input(\"What is your files name? \"))\n",
    "response = response.lower().strip() #.replace(\".\", \"z\", 1)\n",
    "\n",
    "# remove all characters before the character '.' from string\n",
    "before, sep, after = response.rpartition('.')\n",
    "\n",
    "if len(after) > 0:\n",
    "    response = after\n",
    "\n",
    "if response == \"gif\":\n",
    "    print(\"image/gif\")\n",
    "elif response == \"jpg\":\n",
    "    print(\"image/jpeg\")\n",
    "elif response == \"jpeg\":\n",
    "    print(\"image/jpeg\")\n",
    "elif response == \"png\":\n",
    "    print(\"image/png\")\n",
    "elif response == \"pdf\":\n",
    "    print(\"application/pdf\")\n",
    "elif response == \"txt\":\n",
    "    print(\"text/plain\")\n",
    "elif response == \"zip\":\n",
    "    print(\" application/zip\")\n",
    "else:\n",
    "    print(\"application/octet-stream\")\n",
    "\n",
    "\n",
    "#print(response)\n"
   ]
  },
  {
   "cell_type": "code",
   "execution_count": null,
   "id": "ae00d535-6df9-435d-8c46-c67ca039b890",
   "metadata": {},
   "outputs": [],
   "source": [
    "# interpreter.py\n",
    "'''\n",
    "In a file called interpreter.py, implement a program that prompts the user for an arithmetic expression and then\n",
    "calculates and outputs the result as a floating-point value formatted to one decimal place. Assume that the user’s\n",
    "input will be formatted as x y z, with one space between x and y and one space between y and z, wherein:\n",
    "x is an integer\n",
    "y is +, -, *, or /\n",
    "z is an integer\n",
    "For instance, if the user inputs 1 + 1, your program should output 2.0. Assume that, if y is /, then z will not be 0.\n",
    "'''\n",
    "\n",
    "def main():\n",
    "    arth = input(\"Expression: \")\n",
    "    print(convert(arth))\n",
    "\n",
    "def convert(s):\n",
    "    x,y,z = s.split()\n",
    "\n",
    "    if y == \"+\":\n",
    "        return float(x) + float(z)\n",
    "    elif y == \"-\":\n",
    "        return float(x) - float(z)\n",
    "    elif y == \"*\":\n",
    "        return float(x) * float(z)\n",
    "    elif y == \"/\":\n",
    "        return float(x) / float(z)\n",
    "\n",
    "main()"
   ]
  },
  {
   "cell_type": "code",
   "execution_count": null,
   "id": "204e440b-4ca9-44b6-982a-8bd5bb67b801",
   "metadata": {},
   "outputs": [],
   "source": [
    "# meal.py\n",
    "'''\n",
    "In meal.py, implement a program that prompts the user for a time and outputs whether it’s breakfast time, lunch time,\n",
    "or dinner time. If it’s not time for a meal, don’t output anything at all. Assume that the user’s input will be formatted\n",
    "in 24-hour time as #:## or ##:##. And assume that each meal’s time range is inclusive. For instance, whether it’s 7:00, 7:01,\n",
    "7:59, or 8:00, or anytime in between, it’s time for breakfast.\n",
    "\n",
    "Structure your program per the below, wherein convert is a function (that can be called by main) that converts time, a str in\n",
    "24-hour format, to the corresponding number of hours as a float. For instance, given a time like \"7:30\" (i.e., 7 hours and 30\n",
    "minutes), convert should return 7.5 (i.e., 7.5 hours).\n",
    "'''\n",
    "\n",
    "def main():\n",
    "    time = input(\"What time is it\").split(\":\",\" \").repplace(\":\",\".\").strip().whitespace().\n",
    "# vari for meal time\n",
    "# if statement input ==  vari put meal time; if time == \"xx:xx\" to \"xx:xx\"\n",
    "#       7:00 and 8:00, lunch between 12:00 and 13:00, and dinner between 18:00 and 19:00\n",
    "\n",
    "def convert(time):\n",
    "    # b = {_var_name_ from main()}\n",
    "    b = a.replace(\":\",\".\").strip().\n",
    "\n",
    "\n",
    "if __name__ == \"__main__\":\n",
    "    main()"
   ]
  }
 ],
 "metadata": {
  "kernelspec": {
   "display_name": "Python 3 (ipykernel)",
   "language": "python",
   "name": "python3"
  },
  "language_info": {
   "codemirror_mode": {
    "name": "ipython",
    "version": 3
   },
   "file_extension": ".py",
   "mimetype": "text/x-python",
   "name": "python",
   "nbconvert_exporter": "python",
   "pygments_lexer": "ipython3",
   "version": "3.9.12"
  },
  "widgets": {
   "application/vnd.jupyter.widget-state+json": {
    "state": {},
    "version_major": 2,
    "version_minor": 0
   }
  }
 },
 "nbformat": 4,
 "nbformat_minor": 5
}
