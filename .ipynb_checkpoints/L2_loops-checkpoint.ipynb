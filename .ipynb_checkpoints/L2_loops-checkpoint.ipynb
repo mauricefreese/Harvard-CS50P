{
 "cells": [
  {
   "cell_type": "markdown",
   "id": "1fef8029-884e-45a2-8e62-f5427e692db6",
   "metadata": {},
   "source": [
    "'While' Loops"
   ]
  },
  {
   "cell_type": "code",
   "execution_count": 1,
   "id": "974175de-6f1c-4a7d-b05d-b7d98db7303e",
   "metadata": {},
   "outputs": [
    {
     "name": "stdout",
     "output_type": "stream",
     "text": [
      "meow\n",
      "meow\n",
      "meow\n",
      "meow\n",
      "meow\n"
     ]
    }
   ],
   "source": [
    "i = 5\n",
    "while i !=0:\n",
    "    print('meow')\n",
    "    i=i-1 # have to add this line or else you'll be in a infinite loop"
   ]
  },
  {
   "cell_type": "code",
   "execution_count": 4,
   "id": "722dde15-24c0-494b-b05f-4361b8d54a89",
   "metadata": {},
   "outputs": [
    {
     "name": "stdout",
     "output_type": "stream",
     "text": [
      "meow\n",
      "meow\n",
      "meow\n"
     ]
    }
   ],
   "source": [
    "i = 0\n",
    "while i < 3:\n",
    "    print('meow')\n",
    "    i += 1"
   ]
  },
  {
   "cell_type": "code",
   "execution_count": 10,
   "id": "60f59a32-8533-4a94-b470-14ba6a045a29",
   "metadata": {},
   "outputs": [],
   "source": [
    "i = 4\n",
    "while i <= 3:\n",
    "    print('meow')\n",
    "    i += 1"
   ]
  },
  {
   "cell_type": "markdown",
   "id": "464ba3ba-d027-4e21-9080-344946952fc6",
   "metadata": {},
   "source": [
    "'For' Loops and List (dtype)"
   ]
  },
  {
   "cell_type": "code",
   "execution_count": 11,
   "id": "5eb047aa-1125-4508-9ad1-3fd7b4e3e19e",
   "metadata": {},
   "outputs": [
    {
     "name": "stdout",
     "output_type": "stream",
     "text": [
      "meow\n",
      "meow\n",
      "meow\n"
     ]
    }
   ],
   "source": [
    "for i in [0,1,2]:\n",
    "    print('meow')"
   ]
  },
  {
   "cell_type": "code",
   "execution_count": 13,
   "id": "82eaa048-a373-4bc1-bf2d-71a8dec6469a",
   "metadata": {},
   "outputs": [
    {
     "name": "stdout",
     "output_type": "stream",
     "text": [
      "meow\n",
      "meow\n",
      "meow\n"
     ]
    }
   ],
   "source": [
    "for i in range(3): # as give back 0,1,2\n",
    "    print('meow')"
   ]
  },
  {
   "cell_type": "code",
   "execution_count": 19,
   "id": "e6cf2b1f-fb0f-4053-8013-6d9ee25c2376",
   "metadata": {},
   "outputs": [
    {
     "name": "stdout",
     "output_type": "stream",
     "text": [
      "meow\n",
      "meow\n",
      "meow\n"
     ]
    }
   ],
   "source": [
    "print('meow\\n' * 3, end='')"
   ]
  },
  {
   "cell_type": "code",
   "execution_count": 24,
   "id": "30f7bb7e-988b-4721-a0ce-d18826aa4201",
   "metadata": {},
   "outputs": [
    {
     "name": "stdin",
     "output_type": "stream",
     "text": [
      "What's n?  5\n"
     ]
    },
    {
     "name": "stdout",
     "output_type": "stream",
     "text": [
      "meow\n",
      "meow\n",
      "meow\n",
      "meow\n",
      "meow\n"
     ]
    }
   ],
   "source": [
    "while True:\n",
    "    n = int(input(\"What's n? \"))\n",
    "    if n > 0:\n",
    "        break\n",
    "        \n",
    "for _ in range(n):\n",
    "    print('meow')"
   ]
  },
  {
   "cell_type": "code",
   "execution_count": 4,
   "id": "3d505148-3120-45a7-870e-1bac8c8b928e",
   "metadata": {},
   "outputs": [
    {
     "name": "stdin",
     "output_type": "stream",
     "text": [
      "What's n?  4\n"
     ]
    },
    {
     "name": "stdout",
     "output_type": "stream",
     "text": [
      "meow\n",
      "meow\n",
      "meow\n",
      "meow\n"
     ]
    }
   ],
   "source": [
    "def main():\n",
    "    number = get_number()\n",
    "    meow(number)\n",
    "\n",
    "\n",
    "def get_number():\n",
    "    while True:\n",
    "        n = int(input(\"What's n? \"))\n",
    "        if n > 0:\n",
    "            break\n",
    "    return n\n",
    "    \n",
    "    \n",
    "def meow(n):\n",
    "    for _ in range(n):\n",
    "        print('meow')\n",
    "\n",
    "        \n",
    "main()"
   ]
  },
  {
   "cell_type": "markdown",
   "id": "f5083c4d-bf3b-4b17-b85b-c1e3eb03fcf7",
   "metadata": {},
   "source": [
    "list \n",
    "> Remember: Zero Indexed; 0,1,2 not 1,2,3"
   ]
  },
  {
   "cell_type": "code",
   "execution_count": 6,
   "id": "f463bfdc-594c-4b2e-b220-42c702a98649",
   "metadata": {},
   "outputs": [
    {
     "name": "stdout",
     "output_type": "stream",
     "text": [
      "Hermione\n",
      "Harry\n",
      "Ron\n"
     ]
    }
   ],
   "source": [
    "students = ['Hermione', 'Harry' , 'Ron']\n",
    "\n",
    "print(students[0])\n",
    "print(students[1])\n",
    "print(students[2])"
   ]
  },
  {
   "cell_type": "code",
   "execution_count": 10,
   "id": "c2d3f87f-c96f-4d1b-a78d-c0bff2132700",
   "metadata": {},
   "outputs": [
    {
     "name": "stdout",
     "output_type": "stream",
     "text": [
      "Hermione\n",
      "Harry\n",
      "Ron\n"
     ]
    }
   ],
   "source": [
    "students = ['Hermione', 'Harry' , 'Ron']\n",
    "\n",
    "for student in students:\n",
    "    print(student)"
   ]
  },
  {
   "cell_type": "markdown",
   "id": "57ec3492-4512-46e1-afee-8856a4bcec43",
   "metadata": {},
   "source": [
    "Length(len): will tell you the length of things, like in this instance, a list"
   ]
  },
  {
   "cell_type": "code",
   "execution_count": 20,
   "id": "48dd79fe-8b1a-4c6e-8eaa-c8bff12cf0ac",
   "metadata": {},
   "outputs": [
    {
     "name": "stdout",
     "output_type": "stream",
     "text": [
      "1 Hermione\n",
      "2 Harry\n",
      "3 Ron\n"
     ]
    }
   ],
   "source": [
    "students = ['Hermione', 'Harry' , 'Ron']\n",
    "\n",
    "for i in range(len(students)):\n",
    "    print(1+i, students[i])\n",
    "\n",
    "#     or\n",
    "#    for i in range(len(students)):\n",
    "#         print( students[i])\n"
   ]
  },
  {
   "cell_type": "markdown",
   "id": "ba576b3a-84a2-42ea-a004-04f23b2fa777",
   "metadata": {},
   "source": [
    "Dictionaries(dict): lets you associate something with something else\n",
    ">dict utilizes {}"
   ]
  },
  {
   "cell_type": "markdown",
   "id": "d80a33e3-d839-4450-96e3-5e8cf3337a55",
   "metadata": {},
   "source": [
    "Lets say we want to keep track of who lives in which house."
   ]
  },
  {
   "cell_type": "code",
   "execution_count": 24,
   "id": "de002525-c69c-473e-8877-08141b983fa0",
   "metadata": {},
   "outputs": [
    {
     "name": "stdout",
     "output_type": "stream",
     "text": [
      "Gryffindor\n",
      "Gryffindor\n",
      "Gryffindor\n",
      "Gryffindor\n"
     ]
    }
   ],
   "source": [
    "students = {\n",
    "    'Hermione': 'Gryffindor', \n",
    "    'Harry': 'Gryffindor',\n",
    "    'Ron': 'Gryffindor',\n",
    "    'Draco': 'Gryffindor'\n",
    "}\n",
    "\n",
    "print(students['Hermione']) # looking up Herminone to get what house he lives in \n",
    "print(students['Harry'])\n",
    "print(students['Ron'])\n",
    "print(students['Draco'])"
   ]
  },
  {
   "cell_type": "code",
   "execution_count": 32,
   "id": "fd061a5d-7b98-46f4-86b5-3ba8f23514f2",
   "metadata": {},
   "outputs": [
    {
     "name": "stdout",
     "output_type": "stream",
     "text": [
      "Hermione\n",
      "Harry\n",
      "Ron\n",
      "Draco\n",
      "Hermione, Gryffindor\n",
      "Harry, Gryffindor\n",
      "Ron, Gryffindor\n",
      "Draco, Gryffindor\n"
     ]
    }
   ],
   "source": [
    "students = {\n",
    "    'Hermione': 'Gryffindor', \n",
    "    'Harry': 'Gryffindor',\n",
    "    'Ron': 'Gryffindor',\n",
    "    'Draco': 'Gryffindor'\n",
    "}\n",
    "# When using for loop[ in dict, it only iterates over keys\n",
    "for student in students: \n",
    "    print(student)\n",
    "# to fix that\n",
    "for student in students:\n",
    "    print(student, students[student], sep=', ')"
   ]
  },
  {
   "cell_type": "code",
   "execution_count": 35,
   "id": "a34c4f54-2998-47c5-b578-0b66be70202e",
   "metadata": {},
   "outputs": [
    {
     "name": "stdout",
     "output_type": "stream",
     "text": [
      "Hermione, Gryffindor, Otter\n",
      "Harry, Gryffindor, Stag\n",
      "Ron, Gryffindor, Jack Russell Terrier\n",
      "Draco, Slytherin, None\n"
     ]
    }
   ],
   "source": [
    "students = [\n",
    "    {'name': 'Hermione', 'house': 'Gryffindor', 'patronus': 'Otter'},\n",
    "    {'name': 'Harry', 'house': 'Gryffindor', 'patronus': 'Stag'},\n",
    "    {'name': 'Ron', 'house': 'Gryffindor', 'patronus': 'Jack Russell Terrier'},\n",
    "    {'name': 'Draco', 'house': 'Slytherin', 'patronus': None}\n",
    "]\n",
    "\n",
    "for student in students:\n",
    "    print(student['name'], student['house'], student['patronus'], sep=', ')\n",
    "    "
   ]
  },
  {
   "cell_type": "markdown",
   "id": "6da07e60-9c29-4f1c-a8cb-99473bf8e83e",
   "metadata": {},
   "source": [
    "----------------------------------------------------------------------------------------------------------------"
   ]
  },
  {
   "cell_type": "code",
   "execution_count": 37,
   "id": "7bbfcb5c-2eff-479d-8ab0-0c198c8285fa",
   "metadata": {},
   "outputs": [
    {
     "name": "stdout",
     "output_type": "stream",
     "text": [
      "#\n",
      "#\n",
      "#\n"
     ]
    }
   ],
   "source": [
    "print('#')\n",
    "print('#')\n",
    "print('#')"
   ]
  },
  {
   "cell_type": "code",
   "execution_count": 38,
   "id": "5ef92161-05cd-4f0e-97d1-4957bb800aae",
   "metadata": {},
   "outputs": [
    {
     "name": "stdout",
     "output_type": "stream",
     "text": [
      "#\n",
      "#\n",
      "#\n"
     ]
    }
   ],
   "source": [
    "for _ in range(3):\n",
    "    print('#')"
   ]
  },
  {
   "cell_type": "code",
   "execution_count": 44,
   "id": "ff4043cb-c9a8-42c0-a55b-65fba41bc9d6",
   "metadata": {},
   "outputs": [
    {
     "name": "stdout",
     "output_type": "stream",
     "text": [
      "????\n"
     ]
    }
   ],
   "source": [
    "def main():\n",
    "    print_row(4)\n",
    "    \n",
    "def print_row(width):\n",
    "    print('?' * width)\n",
    "        \n",
    "main()\n",
    "    "
   ]
  },
  {
   "cell_type": "code",
   "execution_count": 48,
   "id": "5a035d8e-9bf3-47e5-aed4-50755bae80f3",
   "metadata": {},
   "outputs": [
    {
     "name": "stdout",
     "output_type": "stream",
     "text": [
      "###\n",
      "###\n",
      "###\n"
     ]
    }
   ],
   "source": [
    "def main():\n",
    "    print_square(3)\n",
    "    \n",
    "def print_square(size):\n",
    "    # for each row in square\n",
    "    for i in range(size):\n",
    "    \n",
    "        # for each brick in row\n",
    "        for j in range(size):\n",
    "            # prints brick\n",
    "            print('#', end='')\n",
    "        \n",
    "        print()\n",
    "        \n",
    "main()"
   ]
  },
  {
   "cell_type": "code",
   "execution_count": 50,
   "id": "472df189-d481-4bc6-ba25-022f8defce10",
   "metadata": {},
   "outputs": [
    {
     "name": "stdout",
     "output_type": "stream",
     "text": [
      "###\n",
      "###\n",
      "###\n"
     ]
    }
   ],
   "source": [
    "def main():\n",
    "    print_square(3)\n",
    "    \n",
    "def print_square(size):\n",
    "    for i in range(size):\n",
    "        print_row(size)\n",
    "\n",
    "def print_row(width):\n",
    "    print('#' * width)\n",
    "        \n",
    "main()"
   ]
  }
 ],
 "metadata": {
  "kernelspec": {
   "display_name": "Python 3 (ipykernel)",
   "language": "python",
   "name": "python3"
  },
  "language_info": {
   "codemirror_mode": {
    "name": "ipython",
    "version": 3
   },
   "file_extension": ".py",
   "mimetype": "text/x-python",
   "name": "python",
   "nbconvert_exporter": "python",
   "pygments_lexer": "ipython3",
   "version": "3.9.12"
  },
  "widgets": {
   "application/vnd.jupyter.widget-state+json": {
    "state": {},
    "version_major": 2,
    "version_minor": 0
   }
  }
 },
 "nbformat": 4,
 "nbformat_minor": 5
}
