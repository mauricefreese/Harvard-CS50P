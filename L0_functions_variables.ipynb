{
 "cells": [
  {
   "cell_type": "code",
   "execution_count": 1,
   "id": "f3c7a92d-a73b-4f68-8113-ed7a6f8444b1",
   "metadata": {},
   "outputs": [
    {
     "name": "stdin",
     "output_type": "stream",
     "text": [
      "What's your name? Maurice\n"
     ]
    },
    {
     "name": "stdout",
     "output_type": "stream",
     "text": [
      "Hello, world!\n"
     ]
    }
   ],
   "source": [
    "input(\"What's your name?\")\n",
    "print(\"Hello, world!\")"
   ]
  },
  {
   "cell_type": "markdown",
   "id": "4e723cd9-04cb-4be1-bd86-c9ef1e61497a",
   "metadata": {},
   "source": [
    "string: sequence of text; str"
   ]
  },
  {
   "cell_type": "markdown",
   "id": "7d5c5a12-5ab7-419d-9ed8-79e407b7d332",
   "metadata": {},
   "source": [
    "Return:\n",
    "    -Variables"
   ]
  },
  {
   "cell_type": "markdown",
   "id": "96c712f9-c3b8-40fe-8dd2-8f68f6ba3944",
   "metadata": {
    "tags": []
   },
   "source": [
    "comments: #"
   ]
  },
  {
   "cell_type": "code",
   "execution_count": 10,
   "id": "14ca61c8-183c-47f7-9d25-74bd3842e331",
   "metadata": {
    "tags": []
   },
   "outputs": [
    {
     "name": "stdin",
     "output_type": "stream",
     "text": [
      "What's your name?  Maurice\n"
     ]
    },
    {
     "name": "stdout",
     "output_type": "stream",
     "text": [
      "Hello,\n",
      "Maurice\n"
     ]
    }
   ],
   "source": [
    "# Ask user for their name\n",
    "name = input(\"What's your name? \")\n",
    "# Say hello to user\n",
    "print(\"Hello,\")\n",
    "print(name)"
   ]
  },
  {
   "cell_type": "code",
   "execution_count": 11,
   "id": "c3946a14-1743-4b94-abea-362265d598ec",
   "metadata": {
    "tags": []
   },
   "outputs": [
    {
     "name": "stdin",
     "output_type": "stream",
     "text": [
      "What's your name?  Maurice\n"
     ]
    },
    {
     "name": "stdout",
     "output_type": "stream",
     "text": [
      "Hello, Maurice\n"
     ]
    }
   ],
   "source": [
    "# Ask user for their name\n",
    "name = input(\"What's your name? \")\n",
    "# Say hello to user\n",
    "print(\"Hello, \" + name)"
   ]
  },
  {
   "cell_type": "markdown",
   "id": "616e1453-643b-4408-b23a-43070d12466f",
   "metadata": {},
   "source": [
    "Comma for argument instead of the + sign"
   ]
  },
  {
   "cell_type": "code",
   "execution_count": 13,
   "id": "69b68fd5-2984-43cd-b463-27c2ba00c799",
   "metadata": {},
   "outputs": [
    {
     "name": "stdin",
     "output_type": "stream",
     "text": [
      "What's your name? Maurice\n"
     ]
    },
    {
     "name": "stdout",
     "output_type": "stream",
     "text": [
      "Hello, Maurice\n"
     ]
    }
   ],
   "source": [
    "# Ask user for their name\n",
    "name = input(\"What's your name?\")\n",
    "# Say hello to user\n",
    "print(\"Hello,\",name)"
   ]
  },
  {
   "cell_type": "code",
   "execution_count": 15,
   "id": "c59ad822-237a-4f9d-8ecb-272fe0403839",
   "metadata": {},
   "outputs": [
    {
     "name": "stdin",
     "output_type": "stream",
     "text": [
      "What's your name? Maurice\n"
     ]
    },
    {
     "name": "stdout",
     "output_type": "stream",
     "text": [
      "hello, \n",
      "Maurice\n"
     ]
    }
   ],
   "source": [
    "# Ask user for their name\n",
    "name = input(\"What's your name?\")\n",
    "\n",
    "# Say hello to user\n",
    "print(\"hello, \")\n",
    "print(name)"
   ]
  },
  {
   "cell_type": "markdown",
   "id": "efe1598f-f997-49e1-9c8a-c2d53c2bcfd2",
   "metadata": {},
   "source": [
    "docs.python.org/3/library/functions.html#print"
   ]
  },
  {
   "cell_type": "markdown",
   "id": "1d3bd9b4-6ed1-46d3-b53a-8d4bd546acf6",
   "metadata": {},
   "source": [
    "Python documentation for print function with parameters that it can take"
   ]
  },
  {
   "cell_type": "markdown",
   "id": "a43a337e-a3c8-414c-ae40-d5b9c1e64226",
   "metadata": {},
   "source": [
    "print(*objects, sep=' ', end='\\n', file=sys.stdout, flush=False)"
   ]
  },
  {
   "cell_type": "markdown",
   "id": "764e047f-138c-4f33-ad1a-8c6e6aa94cfe",
   "metadata": {},
   "source": [
    "- end='\\n' : by default this is going to end every argument with a line\n",
    "- sep=' ' : when you pass multiple arguments to print its going to end with a single space"
   ]
  },
  {
   "cell_type": "code",
   "execution_count": 18,
   "id": "03cc0381-dbc1-4fef-a5b9-ac8d7bd19a17",
   "metadata": {},
   "outputs": [
    {
     "name": "stdin",
     "output_type": "stream",
     "text": [
      "What's your name? Maurice\n"
     ]
    },
    {
     "name": "stdout",
     "output_type": "stream",
     "text": [
      "hello, Maurice\n"
     ]
    }
   ],
   "source": [
    "# Ask user for their name\n",
    "name = input(\"What's your name?\")\n",
    "\n",
    "# Say hello to user\n",
    "print(\"hello, \", end=\"\")\n",
    "print(name)"
   ]
  },
  {
   "cell_type": "code",
   "execution_count": 20,
   "id": "46ead98b-959f-4583-80b3-88efaa5121d7",
   "metadata": {},
   "outputs": [
    {
     "name": "stdin",
     "output_type": "stream",
     "text": [
      "What's your name? Maurice\n"
     ]
    },
    {
     "name": "stdout",
     "output_type": "stream",
     "text": [
      "hello, Maurice\n"
     ]
    }
   ],
   "source": [
    "# Ask user for their name\n",
    "name = input(\"What's your name?\")\n",
    "\n",
    "# Say hello to user\n",
    "print(\"hello, \", name, sep=\"\")"
   ]
  },
  {
   "cell_type": "markdown",
   "id": "a77804e9-fe96-4267-9c62-53ff7f0672d3",
   "metadata": {},
   "source": [
    "Backslash \"\\\" escape character vs 'friend\"'"
   ]
  },
  {
   "cell_type": "code",
   "execution_count": 26,
   "id": "da49075d-4144-4c65-b0e1-e142d4cae09b",
   "metadata": {},
   "outputs": [
    {
     "name": "stdout",
     "output_type": "stream",
     "text": [
      "hello, \"friend\"\n",
      "hello, \"friend\"\n"
     ]
    }
   ],
   "source": [
    "print(\"hello, \\\"friend\\\"\")\n",
    "print('hello, \"friend\"')"
   ]
  },
  {
   "cell_type": "markdown",
   "id": "c55c7f82-0686-46c7-8f6d-41c6287ac07b",
   "metadata": {},
   "source": [
    "format string \"f-string\""
   ]
  },
  {
   "cell_type": "code",
   "execution_count": 28,
   "id": "18c7a1c3-8184-4dcd-8671-39f83e4ef7dd",
   "metadata": {},
   "outputs": [
    {
     "name": "stdin",
     "output_type": "stream",
     "text": [
      "What's your name? Maurice\n"
     ]
    },
    {
     "name": "stdout",
     "output_type": "stream",
     "text": [
      "hello, Maurice\n"
     ]
    }
   ],
   "source": [
    "# Ask user for their name\n",
    "name = input(\"What's your name?\")\n",
    "\n",
    "# Say hello to user\n",
    "print(f\"hello, {name}\")"
   ]
  },
  {
   "cell_type": "markdown",
   "id": "26856aab-7b3f-426c-a1f2-ecfedf141202",
   "metadata": {},
   "source": [
    "docs.python.org/3/library/stdtypes.html#string-methods"
   ]
  },
  {
   "cell_type": "markdown",
   "id": "fdca1d5b-8007-4c2f-b4f7-49f094c5ae57",
   "metadata": {},
   "source": [
    ".strip() removes whitespace from left and right\n",
    ".capitalize() capitalizes the first letter\n",
    ".title() capitalizes letter in each word"
   ]
  },
  {
   "cell_type": "code",
   "execution_count": 35,
   "id": "e6e9845b-3937-436e-a0a7-da9c98a07f98",
   "metadata": {},
   "outputs": [
    {
     "name": "stdin",
     "output_type": "stream",
     "text": [
      "What's your name?    maurice freese\n"
     ]
    },
    {
     "name": "stdout",
     "output_type": "stream",
     "text": [
      "hello, Maurice Freese\n"
     ]
    }
   ],
   "source": [
    "# Ask user for their name\n",
    "name = input(\"What's your name?\")\n",
    "\n",
    "# Remove whitespace and capitalizes first and last name from str\n",
    "name = name.strip().title()\n",
    "\n",
    "# Say hello to user\n",
    "print(f\"hello, {name}\")"
   ]
  },
  {
   "cell_type": "code",
   "execution_count": 36,
   "id": "5a2c14e7-a9c0-4507-acc7-d748d8a3aebd",
   "metadata": {},
   "outputs": [
    {
     "name": "stdin",
     "output_type": "stream",
     "text": [
      "What's your name?    maurice freese\n"
     ]
    },
    {
     "name": "stdout",
     "output_type": "stream",
     "text": [
      "hello, Maurice Freese\n"
     ]
    }
   ],
   "source": [
    "# Ask user for their name\n",
    "name = input(\"What's your name?\").strip().title()\n",
    "\n",
    "# Say hello to user\n",
    "print(f\"hello, {name}\")"
   ]
  },
  {
   "cell_type": "markdown",
   "id": "5a07df42-f149-4d8e-b37a-a7d5bbb74052",
   "metadata": {},
   "source": [
    "Method:function that is built into a type of value"
   ]
  },
  {
   "cell_type": "markdown",
   "id": "4837bb00-02e3-41bf-8251-6e35c31a045d",
   "metadata": {},
   "source": [
    "Can technically add as many functions as above in 36 ln 2, but can look ugly"
   ]
  },
  {
   "cell_type": "markdown",
   "id": "11919b23-6573-416e-8e32-e10557c8e795",
   "metadata": {},
   "source": [
    "method: \"split\" will split a string at the space into substrings"
   ]
  },
  {
   "cell_type": "code",
   "execution_count": 39,
   "id": "1fe0b7e8-b69c-4b3e-beb1-be94de942e88",
   "metadata": {},
   "outputs": [
    {
     "name": "stdin",
     "output_type": "stream",
     "text": [
      "What's your name?  maurice freese\n"
     ]
    },
    {
     "name": "stdout",
     "output_type": "stream",
     "text": [
      "hello, Maurice\n"
     ]
    }
   ],
   "source": [
    "# Ask user for their name\n",
    "name = input(\"What's your name?\").strip().title()\n",
    "\n",
    "#Split user's name into first name and last name\n",
    "first, last = name.split(\" \")\n",
    "\n",
    "# Say hello to user\n",
    "print(f\"hello, {first}\")"
   ]
  },
  {
   "cell_type": "markdown",
   "id": "e6acbd89-4f5d-42af-9bf0-b7e1830156fc",
   "metadata": {},
   "source": [
    "integer (int): number from neg. infinity to infinity (no decimals)\n",
    "* \"+\" addition\n",
    "* \"-\" subtraction\n",
    "* \"*\" multiplication\n",
    "* \"%\" \"modulo operator\" takes remainder after dividing one number from another"
   ]
  },
  {
   "cell_type": "markdown",
   "id": "f5f4ebef-a736-4b47-b0fb-2a2acc0896ff",
   "metadata": {},
   "source": [
    "Interative mode: immediately executes line of code\n",
    "    terminal python interpreter \">>>\""
   ]
  },
  {
   "cell_type": "code",
   "execution_count": 41,
   "id": "edac52ae-16be-48c0-99bc-7ca22bec5213",
   "metadata": {},
   "outputs": [],
   "source": [
    "calculator.py\n",
    "\n",
    "x = input(\"What's x? \")\n",
    "y = input(\"What's y? \")\n",
    "\n",
    "z = x + y\n",
    "\n",
    "print(z)"
   ]
  },
  {
   "cell_type": "markdown",
   "id": "407a7c0c-d6cf-422d-ba8c-876cff599e06",
   "metadata": {},
   "source": [
    "The + sign concatenates instead of the addition operator"
   ]
  },
  {
   "cell_type": "code",
   "execution_count": 1,
   "id": "9c99a061-3678-4991-81f1-d2883ece09a9",
   "metadata": {},
   "outputs": [
    {
     "name": "stdin",
     "output_type": "stream",
     "text": [
      "What's x?  2\n",
      "What's y?  3\n"
     ]
    },
    {
     "name": "stdout",
     "output_type": "stream",
     "text": [
      "5\n"
     ]
    }
   ],
   "source": [
    "x = input(\"What's x? \")\n",
    "y = input(\"What's y? \")\n",
    "\n",
    "z = int(x) + int(y)\n",
    "\n",
    "print(z)"
   ]
  },
  {
   "cell_type": "code",
   "execution_count": 47,
   "id": "4e9a51f3-075a-47c7-a05d-fbdc40a460bb",
   "metadata": {},
   "outputs": [
    {
     "name": "stdin",
     "output_type": "stream",
     "text": [
      "What's x?  20\n",
      "What's y?  101\n"
     ]
    },
    {
     "name": "stdout",
     "output_type": "stream",
     "text": [
      "121\n"
     ]
    }
   ],
   "source": [
    "x = int(input(\"What's x? \"))\n",
    "y = int(input(\"What's y? \"))\n",
    "\n",
    "print(x + y)"
   ]
  },
  {
   "cell_type": "markdown",
   "id": "3d444f0b-eb9e-4b57-8c49-dbb4cd16827a",
   "metadata": {},
   "source": [
    "float: is a number with a decimal point"
   ]
  },
  {
   "cell_type": "code",
   "execution_count": 48,
   "id": "cd7f6212-4a02-499f-9913-47916a234236",
   "metadata": {},
   "outputs": [
    {
     "name": "stdin",
     "output_type": "stream",
     "text": [
      "What's x?  3.2\n",
      "What's y?  4.8\n"
     ]
    },
    {
     "name": "stdout",
     "output_type": "stream",
     "text": [
      "8.0\n"
     ]
    }
   ],
   "source": [
    "x = float(input(\"What's x? \"))\n",
    "y = float(input(\"What's y? \"))\n",
    "\n",
    "print(x + y)"
   ]
  },
  {
   "cell_type": "markdown",
   "id": "6a39fffb-df72-40d7-a442-60d376c41d08",
   "metadata": {},
   "source": [
    "round: rounds number for us to the nearest digit"
   ]
  },
  {
   "cell_type": "markdown",
   "id": "261651a8-6932-4d50-8b61-f0e8cf68f7b1",
   "metadata": {},
   "source": [
    "round(number[,ndigits])"
   ]
  },
  {
   "cell_type": "markdown",
   "id": "462e8c6b-73cb-457c-bcbb-69f8469195a8",
   "metadata": {},
   "source": [
    "\" :, \" add's comma for output"
   ]
  },
  {
   "cell_type": "code",
   "execution_count": 51,
   "id": "114b2d0d-7898-4975-8d7b-d73b771344ef",
   "metadata": {},
   "outputs": [
    {
     "name": "stdin",
     "output_type": "stream",
     "text": [
      "What's x?  999\n",
      "What's y?  1\n"
     ]
    },
    {
     "name": "stdout",
     "output_type": "stream",
     "text": [
      "1,000\n"
     ]
    }
   ],
   "source": [
    "x = float(input(\"What's x? \"))\n",
    "y = float(input(\"What's y? \"))\n",
    "\n",
    "z = round(x + y)\n",
    "\n",
    "print(f\"{z:,}\")"
   ]
  },
  {
   "cell_type": "code",
   "execution_count": 55,
   "id": "e555f361-5480-40a7-a17c-782d7262751a",
   "metadata": {},
   "outputs": [
    {
     "name": "stdin",
     "output_type": "stream",
     "text": [
      "What's x?  2\n",
      "What's y?  3\n"
     ]
    },
    {
     "name": "stdout",
     "output_type": "stream",
     "text": [
      "0.67\n"
     ]
    }
   ],
   "source": [
    "x = float(input(\"What's x? \"))\n",
    "y = float(input(\"What's y? \"))\n",
    "\n",
    "# rounds to the nearest 2 digits after decimal\n",
    "z = round(x / y, 2)\n",
    "\n",
    "print(z)"
   ]
  },
  {
   "cell_type": "code",
   "execution_count": 56,
   "id": "a5837052-d4c2-41cf-bf55-22d08285d8f4",
   "metadata": {},
   "outputs": [
    {
     "name": "stdin",
     "output_type": "stream",
     "text": [
      "What's x?  2\n",
      "What's y?  3\n"
     ]
    },
    {
     "name": "stdout",
     "output_type": "stream",
     "text": [
      "0.67\n"
     ]
    }
   ],
   "source": [
    "x = float(input(\"What's x? \"))\n",
    "y = float(input(\"What's y? \"))\n",
    "\n",
    "z = x / y\n",
    "\n",
    "# the same approach to 55 but in f string\n",
    "print(f\"{z:.2f}\")"
   ]
  },
  {
   "cell_type": "markdown",
   "id": "1238c42c-8d24-4c4e-b85d-394073a81f78",
   "metadata": {},
   "source": [
    "def = define"
   ]
  },
  {
   "cell_type": "markdown",
   "id": "0d57a716-be79-4255-8cc6-0427b3981f5d",
   "metadata": {},
   "source": [
    "the value of the parameter \"to\" to plug into print that we see \"Hello,\" and the name input. Even tho variable is \"name\" when the func is called, it is called to another variable \"to\""
   ]
  },
  {
   "cell_type": "code",
   "execution_count": 62,
   "id": "3ab19fb7-416b-46bc-a1d3-df03db6b72a3",
   "metadata": {},
   "outputs": [
    {
     "name": "stdin",
     "output_type": "stream",
     "text": [
      "What's your name?  Maurice\n"
     ]
    },
    {
     "name": "stdout",
     "output_type": "stream",
     "text": [
      "Hello, Maurice\n"
     ]
    }
   ],
   "source": [
    "def hello(to):\n",
    "    print(\"Hello,\", to)\n",
    "\n",
    "name = input(\"What's your name? \")\n",
    "hello(name)"
   ]
  },
  {
   "cell_type": "markdown",
   "id": "c2928ce2-9b10-4aa7-83e0-56a0dd390231",
   "metadata": {},
   "source": [
    "If you want the value of the parameter by default, to be equal to world:"
   ]
  },
  {
   "cell_type": "code",
   "execution_count": 64,
   "id": "e3d04619-3d3c-4207-ae7a-a71b819ae258",
   "metadata": {},
   "outputs": [
    {
     "name": "stdout",
     "output_type": "stream",
     "text": [
      "Hello, world\n"
     ]
    },
    {
     "name": "stdin",
     "output_type": "stream",
     "text": [
      "What's your name?  Maurice\n"
     ]
    },
    {
     "name": "stdout",
     "output_type": "stream",
     "text": [
      "Hello, Maurice\n"
     ]
    }
   ],
   "source": [
    "def hello(to=\"world\"):\n",
    "    print(\"Hello,\", to)\n",
    "\n",
    "hello()\n",
    "name = input(\"What's your name? \")\n",
    "hello(name)"
   ]
  },
  {
   "cell_type": "code",
   "execution_count": 69,
   "id": "2d311935-1fc8-40aa-93bf-ce7932edafaf",
   "metadata": {},
   "outputs": [
    {
     "name": "stdin",
     "output_type": "stream",
     "text": [
      "What's your name?  Maurice\n"
     ]
    },
    {
     "name": "stdout",
     "output_type": "stream",
     "text": [
      "Hello, Maurice\n"
     ]
    }
   ],
   "source": [
    "def main():\n",
    "    name = input(\"What's your name? \")\n",
    "    hello(name)\n",
    "    \n",
    "def hello(to=\"world\"):\n",
    "    print(\"Hello,\",to)\n",
    "    \n",
    "main()"
   ]
  },
  {
   "cell_type": "markdown",
   "id": "baeda699-0823-4ae9-a51a-ff55ebdfec05",
   "metadata": {},
   "source": [
    "scope: varible only existing in the context you defined it"
   ]
  },
  {
   "cell_type": "markdown",
   "id": "2a4eaa1e-7c52-42e6-9f16-9bf5f195af6f",
   "metadata": {},
   "source": [
    "return: explicity return a value myself"
   ]
  },
  {
   "cell_type": "code",
   "execution_count": 75,
   "id": "c63e55fe-acaf-4533-bce6-e432baf57af4",
   "metadata": {},
   "outputs": [
    {
     "name": "stdin",
     "output_type": "stream",
     "text": [
      "What's x?  2\n"
     ]
    },
    {
     "name": "stdout",
     "output_type": "stream",
     "text": [
      "x squared is 4\n"
     ]
    }
   ],
   "source": [
    "def main():\n",
    "    x = int(input(\"What's x? \"))\n",
    "    print(\"x squared is\", square(x))\n",
    "\n",
    "def square(n):\n",
    "    return pow(n,2)\n",
    "    \n",
    "main()"
   ]
  }
 ],
 "metadata": {
  "kernelspec": {
   "display_name": "Python 3 (ipykernel)",
   "language": "python",
   "name": "python3"
  },
  "language_info": {
   "codemirror_mode": {
    "name": "ipython",
    "version": 3
   },
   "file_extension": ".py",
   "mimetype": "text/x-python",
   "name": "python",
   "nbconvert_exporter": "python",
   "pygments_lexer": "ipython3",
   "version": "3.9.12"
  },
  "toc-autonumbering": false
 },
 "nbformat": 4,
 "nbformat_minor": 5
}
