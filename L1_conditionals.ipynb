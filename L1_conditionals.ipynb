{
 "cells": [
  {
   "cell_type": "markdown",
   "id": "5a0d704d-bef3-4207-852b-cb0d335bb1b6",
   "metadata": {},
   "source": [
    "Conditional statement: Ability to ask questions and have the question answered and decisions made"
   ]
  },
  {
   "cell_type": "code",
   "execution_count": 8,
   "id": "c14bdfd4-4617-4a7a-ba38-58f775cfabc2",
   "metadata": {},
   "outputs": [
    {
     "data": {
      "text/plain": [
       "'\\n- \">\": greater than\\n- \">=\": greater than or equal to\\n- \"<\": less than\\n-\"<=\": less than or equal to\\n_ \"==\": equal to\\n- \"!=\": not equal to\\n'"
      ]
     },
     "execution_count": 8,
     "metadata": {},
     "output_type": "execute_result"
    }
   ],
   "source": [
    "'''\n",
    "- \">\": greater than\n",
    "- \">=\": greater than or equal to\n",
    "- \"<\": less than\n",
    "-\"<=\": less than or equal to\n",
    "_ \"==\": equal to\n",
    "- \"!=\": not equal to\n",
    "'''"
   ]
  },
  {
   "cell_type": "markdown",
   "id": "8a4c1a26-9253-4474-a9b5-5f3cdffa4ea2",
   "metadata": {},
   "source": [
    "compare.py"
   ]
  },
  {
   "cell_type": "markdown",
   "id": "259711a1-6339-4c70-b0be-024ba297f336",
   "metadata": {},
   "source": [
    "x < y is a boolean expression"
   ]
  },
  {
   "cell_type": "code",
   "execution_count": 3,
   "id": "cd4341fb-3be8-4073-88dd-50f65d916dba",
   "metadata": {},
   "outputs": [
    {
     "name": "stdin",
     "output_type": "stream",
     "text": [
      "What's x?  6\n",
      "What's y?  6\n"
     ]
    },
    {
     "name": "stdout",
     "output_type": "stream",
     "text": [
      "x is equal to y\n"
     ]
    }
   ],
   "source": [
    "x = int(input(\"What's x? \"))\n",
    "y = int(input(\"What's y? \"))\n",
    "\n",
    "if x < y:\n",
    "    print(\"x is less than y \")\n",
    "if x > y:\n",
    "    print(\"x is greater than y \")\n",
    "if x == y:\n",
    "    print(\"x is equal to y\")"
   ]
  },
  {
   "cell_type": "markdown",
   "id": "d95a0955-7b39-420e-bfdc-57a04761900d",
   "metadata": {},
   "source": [
    "elif: else/if allows us to ask a question that takes into acount whether or not a previous question had a true or false "
   ]
  },
  {
   "cell_type": "code",
   "execution_count": 10,
   "id": "4e269a78-1300-45e4-9d5e-901eaaa1c4b2",
   "metadata": {},
   "outputs": [
    {
     "name": "stdin",
     "output_type": "stream",
     "text": [
      "What's x?  4\n",
      "What's y?  4\n"
     ]
    },
    {
     "name": "stdout",
     "output_type": "stream",
     "text": [
      "x is equal to y\n"
     ]
    }
   ],
   "source": [
    "x = int(input(\"What's x? \"))\n",
    "y = int(input(\"What's y? \"))\n",
    "\n",
    "if x < y:\n",
    "    print(\"x is less than y \")\n",
    "elif x > y:\n",
    "    print(\"x is greater than y \")\n",
    "elif x == y:\n",
    "    print(\"x is equal to y\")"
   ]
  },
  {
   "cell_type": "markdown",
   "id": "7bd5b1d1-a32e-4802-8fa5-7ddecfdf2714",
   "metadata": {},
   "source": [
    "else"
   ]
  },
  {
   "cell_type": "code",
   "execution_count": 6,
   "id": "9188b924-afff-4c0e-86dd-612bb825e837",
   "metadata": {},
   "outputs": [
    {
     "name": "stdin",
     "output_type": "stream",
     "text": [
      "What's x?  6\n",
      "What's y?  6\n"
     ]
    },
    {
     "name": "stdout",
     "output_type": "stream",
     "text": [
      "x is equal to y\n"
     ]
    }
   ],
   "source": [
    "x = int(input(\"What's x? \"))\n",
    "y = int(input(\"What's y? \"))\n",
    "\n",
    "if x < y:\n",
    "    print(\"x is less than y \")\n",
    "if x > y:\n",
    "    print(\"x is greater than y \")\n",
    "else:\n",
    "    print(\"x is equal to y\")"
   ]
  },
  {
   "cell_type": "markdown",
   "id": "6d8333b6-aa19-4f10-b61d-0a637893f661",
   "metadata": {},
   "source": [
    "or"
   ]
  },
  {
   "cell_type": "code",
   "execution_count": 13,
   "id": "d4a0909e-30ba-4109-85a7-83e806b88249",
   "metadata": {},
   "outputs": [
    {
     "name": "stdin",
     "output_type": "stream",
     "text": [
      "What's x?  3\n",
      "What's y?  3\n"
     ]
    },
    {
     "name": "stdout",
     "output_type": "stream",
     "text": [
      "x is equal to y\n"
     ]
    }
   ],
   "source": [
    "x = int(input(\"What's x? \"))\n",
    "y = int(input(\"What's y? \"))\n",
    "\n",
    "if x < y or x > y:\n",
    "    print(\"x is not equal to y\")\n",
    "else:\n",
    "    print(\"x is equal to y\")"
   ]
  },
  {
   "cell_type": "code",
   "execution_count": 17,
   "id": "2ddd52d0-34b8-4af5-92e3-d095ce0c703d",
   "metadata": {},
   "outputs": [
    {
     "name": "stdin",
     "output_type": "stream",
     "text": [
      "What's x?  3\n",
      "What's y?  3\n"
     ]
    },
    {
     "name": "stdout",
     "output_type": "stream",
     "text": [
      "x is equal to y\n"
     ]
    }
   ],
   "source": [
    "x = int(input(\"What's x? \"))\n",
    "y = int(input(\"What's y? \"))\n",
    "\n",
    "if x != y:\n",
    "    print(\"x is not equal to y\")\n",
    "else:\n",
    "    print(\"x is equal to y\")"
   ]
  },
  {
   "cell_type": "markdown",
   "id": "6fc46915-417f-43e7-bd1e-124e47ca9ce2",
   "metadata": {},
   "source": [
    "and"
   ]
  },
  {
   "cell_type": "code",
   "execution_count": 27,
   "id": "f3bfa424-3d1c-4cbc-b7d4-c5abec3a39f1",
   "metadata": {},
   "outputs": [
    {
     "name": "stdin",
     "output_type": "stream",
     "text": [
      "Score:  32\n"
     ]
    },
    {
     "name": "stdout",
     "output_type": "stream",
     "text": [
      "Grade: F\n"
     ]
    }
   ],
   "source": [
    "# grade.py\n",
    "\n",
    "score = int(input(\"Score: \"))\n",
    "\n",
    "if score >= 90 and score <= 100:\n",
    "    print(\"Grade: A\")\n",
    "elif score >= 80 and score < 90:\n",
    "    print(\"Grade: B\")\n",
    "elif score >= 70 and score < 80:\n",
    "    print(\"Grade: C\")\n",
    "elif score >= 60 and score < 70:\n",
    "    print(\"Grade: D\")\n",
    "else:\n",
    "    print(\"Grade: F\")"
   ]
  },
  {
   "cell_type": "code",
   "execution_count": 33,
   "id": "0f931e9a-0683-4b47-867a-a67afa410e45",
   "metadata": {},
   "outputs": [
    {
     "name": "stdin",
     "output_type": "stream",
     "text": [
      "Score:  98\n"
     ]
    },
    {
     "name": "stdout",
     "output_type": "stream",
     "text": [
      "Grade: A\n"
     ]
    }
   ],
   "source": [
    "score = int(input(\"Score: \"))\n",
    "\n",
    "if 90 <= score <= 100:\n",
    "    print(\"Grade: A\")\n",
    "elif 80 <= score < 90:\n",
    "    print(\"Grade: B\")\n",
    "elif 70 <= score < 80:\n",
    "    print(\"Grade: C\")\n",
    "elif 60 <= score < 70:\n",
    "    print(\"Grade: D\")\n",
    "else:\n",
    "    print(\"Grade: F\")"
   ]
  },
  {
   "cell_type": "code",
   "execution_count": 38,
   "id": "221d3033-3739-4cf8-a978-59ebee0f6039",
   "metadata": {},
   "outputs": [
    {
     "name": "stdin",
     "output_type": "stream",
     "text": [
      "Score:  87\n"
     ]
    },
    {
     "name": "stdout",
     "output_type": "stream",
     "text": [
      "Grade: B\n"
     ]
    }
   ],
   "source": [
    "score = int(input(\"Score: \"))\n",
    "\n",
    "if score >= 90:\n",
    "    print(\"Grade: A\")\n",
    "elif score >= 80:\n",
    "    print(\"Grade: B\")\n",
    "elif score >= 70:\n",
    "    print(\"Grade: C\")\n",
    "elif score >= 60:\n",
    "    print(\"Grade: D\")\n",
    "else:\n",
    "    print(\"Grade: F\")"
   ]
  },
  {
   "cell_type": "code",
   "execution_count": 2,
   "id": "4973bcdf-1293-4b7f-9583-44b801256bae",
   "metadata": {},
   "outputs": [
    {
     "name": "stdin",
     "output_type": "stream",
     "text": [
      "What's x?  2\n"
     ]
    },
    {
     "name": "stdout",
     "output_type": "stream",
     "text": [
      "Even\n"
     ]
    }
   ],
   "source": [
    "#parity.py\n",
    "\n",
    "x = int(input(\"What's x? \"))\n",
    "if x % 2 == 0:\n",
    "    print (\"Even\")\n",
    "else:\n",
    "    print(\"Odd\")\n"
   ]
  },
  {
   "cell_type": "code",
   "execution_count": 10,
   "id": "216fdb51-4535-4786-be34-c6fd353828ee",
   "metadata": {},
   "outputs": [
    {
     "name": "stdin",
     "output_type": "stream",
     "text": [
      "What's x?  3\n"
     ]
    },
    {
     "name": "stdout",
     "output_type": "stream",
     "text": [
      "Odd\n"
     ]
    }
   ],
   "source": [
    "def main():\n",
    "    x = int(input(\"What's x? \"))\n",
    "    if is_even(x):\n",
    "        print(\"Even\")\n",
    "    else:\n",
    "        print(\"Odd\")\n",
    "        \n",
    "def is_even(n):\n",
    "    return (n % 2 == 0)\n",
    "    # return True if n % 2 == 0 else False\n",
    "''' same way\n",
    "   if n % 2 == 0: \n",
    "        return True\n",
    "    else:\n",
    "        return False\n",
    "'''\n",
    "main()"
   ]
  },
  {
   "cell_type": "code",
   "execution_count": 5,
   "id": "d69a2cc1-29da-4fee-9cbd-b7014ed31d65",
   "metadata": {},
   "outputs": [
    {
     "name": "stdin",
     "output_type": "stream",
     "text": [
      "What's your name?  hg\n"
     ]
    },
    {
     "name": "stdout",
     "output_type": "stream",
     "text": [
      "Who?\n"
     ]
    }
   ],
   "source": [
    "# house.py\n",
    "name = input(\"What's your name? \")\n",
    "             \n",
    "if name == \"Harry\" or name == \"Hermione\" or name == \"Ron\":\n",
    "    print(\"Gryffindor\")\n",
    "elif name == \"Draco\":\n",
    "    print(\"Gryffindor\")\n",
    "else:\n",
    "    print(\"Who?\")\n",
    "             "
   ]
  },
  {
   "cell_type": "markdown",
   "id": "107c3094-4256-4954-b19c-ec627c397a35",
   "metadata": {},
   "source": [
    "Match"
   ]
  },
  {
   "cell_type": "code",
   "execution_count": 6,
   "id": "123aed72-0be4-4f1f-815d-00ba20f88ac7",
   "metadata": {},
   "outputs": [
    {
     "ename": "SyntaxError",
     "evalue": "invalid syntax (1048611489.py, line 3)",
     "output_type": "error",
     "traceback": [
      "\u001b[0;36m  Input \u001b[0;32mIn [6]\u001b[0;36m\u001b[0m\n\u001b[0;31m    match name:\u001b[0m\n\u001b[0m          ^\u001b[0m\n\u001b[0;31mSyntaxError\u001b[0m\u001b[0;31m:\u001b[0m invalid syntax\n"
     ]
    }
   ],
   "source": [
    "name = input(\"What's your name? \")\n",
    "\n",
    "match name:\n",
    "    case \"Harry\" | \"Hermione\" | \"Ron\":\n",
    "        print(\"Gryffindor\")\n",
    "    case \"Draco\":\n",
    "        print(\"Gryffindor\")\n",
    "    case _:\n",
    "        print(\"Who?\")\n",
    "              "
   ]
  },
  {
   "cell_type": "code",
   "execution_count": null,
   "id": "79221e14-e144-478b-aafb-5fe9401bd00a",
   "metadata": {},
   "outputs": [],
   "source": []
  }
 ],
 "metadata": {
  "kernelspec": {
   "display_name": "Python 3 (ipykernel)",
   "language": "python",
   "name": "python3"
  },
  "language_info": {
   "codemirror_mode": {
    "name": "ipython",
    "version": 3
   },
   "file_extension": ".py",
   "mimetype": "text/x-python",
   "name": "python",
   "nbconvert_exporter": "python",
   "pygments_lexer": "ipython3",
   "version": "3.9.12"
  }
 },
 "nbformat": 4,
 "nbformat_minor": 5
}
